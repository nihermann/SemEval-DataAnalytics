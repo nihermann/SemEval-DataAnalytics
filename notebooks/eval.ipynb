{
 "cells": [
  {
   "cell_type": "code",
   "execution_count": 1,
   "metadata": {
    "collapsed": true,
    "ExecuteTime": {
     "start_time": "2023-04-10T23:17:51.850816Z",
     "end_time": "2023-04-10T23:17:53.491076Z"
    }
   },
   "outputs": [],
   "source": [
    "from sentence_transformers import CrossEncoder, InputExample\n",
    "import pandas as pd\n",
    "import numpy as np\n",
    "from sklearn.model_selection import train_test_split\n",
    "\n",
    "from typing import Tuple"
   ]
  },
  {
   "cell_type": "code",
   "execution_count": 2,
   "outputs": [],
   "source": [
    "def load_data(path: str = \"data/preprocessed.feather\") -> Tuple[InputExample, InputExample, InputExample]:\n",
    "    ds = pd.read_feather(path)\n",
    "    ds.score /= 5\n",
    "    data = [InputExample(texts=[s1, s2], label=score)\n",
    "            for s1, s2, score in ds.loc[:, [\"sen1\", \"sen2\", \"score\"]].values]\n",
    "    train, test = train_test_split(data, train_size=.9, random_state=0)\n",
    "    train, valid = train_test_split(train, train_size=.8, random_state=0)\n",
    "    return train, valid, test\n",
    "\n",
    "_, _, test = load_data(\"../data/preprocessed.feather\")\n",
    "sentences, scores = [], []\n",
    "for inp in test:\n",
    "    sentences.append(inp.texts)\n",
    "    scores.append(inp.label)"
   ],
   "metadata": {
    "collapsed": false,
    "ExecuteTime": {
     "start_time": "2023-04-10T23:17:53.493089Z",
     "end_time": "2023-04-10T23:17:53.508930Z"
    }
   }
  },
  {
   "cell_type": "code",
   "execution_count": 3,
   "outputs": [],
   "source": [
    "model_name = \"cross-encoder/stsb-roberta-large\"\n",
    "model_path = f\"../models/{model_name}/\"\n",
    "\n",
    "model = CrossEncoder(model_path)"
   ],
   "metadata": {
    "collapsed": false,
    "ExecuteTime": {
     "start_time": "2023-04-10T23:17:53.509282Z",
     "end_time": "2023-04-10T23:17:56.597001Z"
    }
   }
  },
  {
   "cell_type": "code",
   "execution_count": 4,
   "outputs": [
    {
     "name": "stdout",
     "output_type": "stream",
     "text": [
      "Pearson correlation:  0.9270\n"
     ]
    }
   ],
   "source": [
    "predictions = model.predict(sentences, convert_to_numpy=True)\n",
    "print(f\"Pearson correlation: {np.corrcoef(predictions, scores)[0,1]: .4f}\")"
   ],
   "metadata": {
    "collapsed": false,
    "ExecuteTime": {
     "start_time": "2023-04-10T23:17:56.597772Z",
     "end_time": "2023-04-10T23:18:17.946458Z"
    }
   }
  },
  {
   "cell_type": "code",
   "execution_count": 5,
   "outputs": [],
   "source": [
    "df = pd.DataFrame(data={\n",
    "    \"sen1\": [s[0] for s in sentences],\n",
    "    \"sen2\": [s[1] for s in sentences],\n",
    "    \"scores\": scores,\n",
    "    \"preds\": predictions,\n",
    "    \"mae\": np.abs(predictions-scores)\n",
    "})"
   ],
   "metadata": {
    "collapsed": false,
    "ExecuteTime": {
     "start_time": "2023-04-10T23:18:17.951948Z",
     "end_time": "2023-04-10T23:18:17.953478Z"
    }
   }
  },
  {
   "cell_type": "code",
   "execution_count": 6,
   "outputs": [
    {
     "data": {
      "text/plain": "                                                  sen1  \\\n2        the act of substituting one thing for another   \n158                   geography as defined by its use.   \n224                     intuitions, a hunch or feeling   \n358  an agent or entity becomes sufficient enough t...   \n347      the act of substituting one thing for another   \n285                  Cause to move forward with force.   \n307               an open motorboat used for transport   \n83   the reduction of the extent of something, e.g,...   \n301  Generalise the structure of an optimal solutio...   \n0                (cause to) appear suddenly or briefly   \n\n                                                  sen2  scores     preds  \\\n2        the act of contacting one thing with another.    0.16  0.687839   \n158  a district that has been developed to serve so...    0.48  0.009411   \n224        maintain (a theory, thoughts, or feelings).    0.28  0.745484   \n358                        fill or meet a want or need    0.24  0.663957   \n347            the act of adding one thing to another.    0.28  0.682764   \n285         vary or move from a fixed point or course.    0.76  0.363971   \n307      a motorboat with an open deck or a half deck.    0.45  0.819588   \n83           change toward something smaller or lower.    0.88  0.516474   \n301  Use these optimal solutions to construct an op...    0.20  0.540433   \n0         break open or apart suddenly and forcefully.    0.08  0.415022   \n\n          mae  \n2    0.527839  \n158  0.470589  \n224  0.465484  \n358  0.423957  \n347  0.402764  \n285  0.396029  \n307  0.369588  \n83   0.363526  \n301  0.340433  \n0    0.335022  ",
      "text/html": "<div>\n<style scoped>\n    .dataframe tbody tr th:only-of-type {\n        vertical-align: middle;\n    }\n\n    .dataframe tbody tr th {\n        vertical-align: top;\n    }\n\n    .dataframe thead th {\n        text-align: right;\n    }\n</style>\n<table border=\"1\" class=\"dataframe\">\n  <thead>\n    <tr style=\"text-align: right;\">\n      <th></th>\n      <th>sen1</th>\n      <th>sen2</th>\n      <th>scores</th>\n      <th>preds</th>\n      <th>mae</th>\n    </tr>\n  </thead>\n  <tbody>\n    <tr>\n      <th>2</th>\n      <td>the act of substituting one thing for another</td>\n      <td>the act of contacting one thing with another.</td>\n      <td>0.16</td>\n      <td>0.687839</td>\n      <td>0.527839</td>\n    </tr>\n    <tr>\n      <th>158</th>\n      <td>geography as defined by its use.</td>\n      <td>a district that has been developed to serve so...</td>\n      <td>0.48</td>\n      <td>0.009411</td>\n      <td>0.470589</td>\n    </tr>\n    <tr>\n      <th>224</th>\n      <td>intuitions, a hunch or feeling</td>\n      <td>maintain (a theory, thoughts, or feelings).</td>\n      <td>0.28</td>\n      <td>0.745484</td>\n      <td>0.465484</td>\n    </tr>\n    <tr>\n      <th>358</th>\n      <td>an agent or entity becomes sufficient enough t...</td>\n      <td>fill or meet a want or need</td>\n      <td>0.24</td>\n      <td>0.663957</td>\n      <td>0.423957</td>\n    </tr>\n    <tr>\n      <th>347</th>\n      <td>the act of substituting one thing for another</td>\n      <td>the act of adding one thing to another.</td>\n      <td>0.28</td>\n      <td>0.682764</td>\n      <td>0.402764</td>\n    </tr>\n    <tr>\n      <th>285</th>\n      <td>Cause to move forward with force.</td>\n      <td>vary or move from a fixed point or course.</td>\n      <td>0.76</td>\n      <td>0.363971</td>\n      <td>0.396029</td>\n    </tr>\n    <tr>\n      <th>307</th>\n      <td>an open motorboat used for transport</td>\n      <td>a motorboat with an open deck or a half deck.</td>\n      <td>0.45</td>\n      <td>0.819588</td>\n      <td>0.369588</td>\n    </tr>\n    <tr>\n      <th>83</th>\n      <td>the reduction of the extent of something, e.g,...</td>\n      <td>change toward something smaller or lower.</td>\n      <td>0.88</td>\n      <td>0.516474</td>\n      <td>0.363526</td>\n    </tr>\n    <tr>\n      <th>301</th>\n      <td>Generalise the structure of an optimal solutio...</td>\n      <td>Use these optimal solutions to construct an op...</td>\n      <td>0.20</td>\n      <td>0.540433</td>\n      <td>0.340433</td>\n    </tr>\n    <tr>\n      <th>0</th>\n      <td>(cause to) appear suddenly or briefly</td>\n      <td>break open or apart suddenly and forcefully.</td>\n      <td>0.08</td>\n      <td>0.415022</td>\n      <td>0.335022</td>\n    </tr>\n  </tbody>\n</table>\n</div>"
     },
     "execution_count": 6,
     "metadata": {},
     "output_type": "execute_result"
    }
   ],
   "source": [
    "df = df.sort_values(by=\"mae\", ascending=False)\n",
    "df.head(10)"
   ],
   "metadata": {
    "collapsed": false,
    "ExecuteTime": {
     "start_time": "2023-04-10T23:18:17.954756Z",
     "end_time": "2023-04-10T23:18:17.965379Z"
    }
   }
  },
  {
   "cell_type": "code",
   "execution_count": 7,
   "outputs": [
    {
     "name": "stdout",
     "output_type": "stream",
     "text": [
      "\\begin{tabular}{|p{5cm}|p{5cm}|p{1cm}|p{1.2cm}|}\n",
      "    \\hline\n",
      "    Sentence1 & Sentence2 & Score & Prediction \\\\\n",
      "    \\hline\\hline\n",
      "\tthe act of substituting one thing for another & the act of contacting one thing with another. &  0.16 &  0.69\\\\\n",
      "\t\\hline\n",
      "\tgeography as defined by its use. & a district that has been developed to serve some purpose; &  0.48 &  0.01\\\\\n",
      "\t\\hline\n",
      "\tintuitions, a hunch or feeling & maintain (a theory, thoughts, or feelings). &  0.28 &  0.75\\\\\n",
      "\t\\hline\n",
      "\tan agent or entity becomes sufficient enough to meet a standard. alternatively, an action or occurrence can be thought of as event that fulfills a standard. in this frame, the agent, entity, or event can be conceptualized as being on a scale where a change of value or circumstances brings it in line with the position of the standard on the scale. & fill or meet a want or need &  0.24 &  0.66\\\\\n",
      "\t\\hline\n",
      "\tthe act of substituting one thing for another & the act of adding one thing to another. &  0.28 &  0.68\\\\\n",
      "\t\\hline\n",
      "\tCause to move forward with force. & vary or move from a fixed point or course. &  0.76 &  0.36\\\\\n",
      "\t\\hline\n",
      "\tan open motorboat used for transport & a motorboat with an open deck or a half deck. &  0.45 &  0.82\\\\\n",
      "\t\\hline\n",
      "\tthe reduction of the extent of something, e.g, its size, importance or quantity & change toward something smaller or lower. &  0.88 &  0.52\\\\\n",
      "\t\\hline\n",
      "\tGeneralise the structure of an optimal solution 2. & Use these optimal solutions to construct an optimal solution for the original problem. &  0.20 &  0.54\\\\\n",
      "\t\\hline\n",
      "\t(cause to) appear suddenly or briefly & break open or apart suddenly and forcefully. &  0.08 &  0.42\\\\\n",
      "\t\\hline\n",
      "\\end{tabular}\n",
      "\n"
     ]
    }
   ],
   "source": [
    "def to_latex(df: pd.DataFrame):\n",
    "    inner = \"\"\n",
    "    for idx, row in df.iterrows():\n",
    "        inner += \"\\t\" + row.sen1.replace('&', '\\&') + \" & \" + row.sen2.replace('&', '\\&') + f\" & {row.scores: .2f} & {row.preds: .2f}\\\\\\\\\\n\\t\\hline\\n\"\n",
    "    outer = (\"\\\\begin{tabular}{|p{5cm}|p{5cm}|p{1cm}|p{1.2cm}|}\\n\"\n",
    "             \"    \\hline\\n\"\n",
    "             \"    Sentence1 & Sentence2 & Score & Prediction \\\\\\\\\\n\"\n",
    "             \"    \\hline\\hline\\n\"\n",
    "             f\"{inner}\"\n",
    "             \"\\end{tabular}\\n\")\n",
    "    print(outer)\n",
    "\n",
    "to_latex(df.head(10))"
   ],
   "metadata": {
    "collapsed": false,
    "ExecuteTime": {
     "start_time": "2023-04-10T23:18:17.967061Z",
     "end_time": "2023-04-10T23:18:17.988064Z"
    }
   }
  }
 ],
 "metadata": {
  "kernelspec": {
   "display_name": "Python 3",
   "language": "python",
   "name": "python3"
  },
  "language_info": {
   "codemirror_mode": {
    "name": "ipython",
    "version": 2
   },
   "file_extension": ".py",
   "mimetype": "text/x-python",
   "name": "python",
   "nbconvert_exporter": "python",
   "pygments_lexer": "ipython2",
   "version": "2.7.6"
  }
 },
 "nbformat": 4,
 "nbformat_minor": 0
}
