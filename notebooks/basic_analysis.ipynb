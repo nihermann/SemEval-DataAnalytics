{
 "cells": [
  {
   "cell_type": "code",
   "execution_count": 1,
   "metadata": {
    "collapsed": true
   },
   "outputs": [],
   "source": [
    "import matplotlib.pyplot as plt\n",
    "import pandas as pd\n",
    "import numpy as np"
   ]
  },
  {
   "cell_type": "code",
   "execution_count": 2,
   "outputs": [],
   "source": [
    "csv_path = \"../data/correct_cols.tsv\""
   ],
   "metadata": {
    "collapsed": false
   }
  },
  {
   "cell_type": "code",
   "execution_count": 3,
   "outputs": [],
   "source": [
    "def add_missing_tabs_in_file(source_path: str, target_path: str) -> None:\n",
    "    with open(source_path, \"r\") as source, open(target_path, \"w\") as target:\n",
    "        headers = \"file\\tyear\\tid\\tscore\\tsen1\\tsen2\\tinfo1\\tinfo2\\n\"\n",
    "        target.write(headers)\n",
    "        for line in source:\n",
    "            if line.count(\"\\t\") == 5:\n",
    "                line = line.strip()\n",
    "                line += \"\\t\\t\\n\"\n",
    "            target.write(line)\n",
    "add_missing_tabs_in_file(\"../data/sts-other.tsv\", csv_path)"
   ],
   "metadata": {
    "collapsed": false
   }
  },
  {
   "cell_type": "code",
   "execution_count": 4,
   "outputs": [],
   "source": [
    "df = pd.read_csv(csv_path, sep=\"\\t\")"
   ],
   "metadata": {
    "collapsed": false
   }
  },
  {
   "cell_type": "code",
   "execution_count": 5,
   "outputs": [],
   "source": [
    "from utx.statistics.dataframes import summarise\n",
    "print(summarise(df))"
   ],
   "metadata": {
    "collapsed": false
   }
  },
  {
   "cell_type": "code",
   "execution_count": 6,
   "outputs": [
    {
     "name": "stdout",
     "output_type": "stream",
     "text": [
      "Summary statistics:\n",
      "Dataframe dimensions: 3814x8\n",
      "file - object\n",
      "\tExamples:\n",
      "\t\tsurprise.OnWN\n",
      "\t\tsurprise.OnWN\n",
      "\t\tsurprise.OnWN\n",
      "\tUnique objects:\n",
      "\t\t7\n",
      "\tContains NaN: False\n",
      "year - object\n",
      "\tExamples:\n",
      "\t\t2012test\n",
      "\t\t2012test\n",
      "\t\t2012test\n",
      "\tUnique objects:\n",
      "\t\t5\n",
      "\tContains NaN: False\n",
      "id - int64\n",
      "\tRange( 0.00,  1981.00)\n",
      "\tQuantiles: 0.25:  161.00 | 0.5:  359.50 | 0.75:  574.00\n",
      "\tMean:  419.43\n",
      "\tContains NaN: False\n",
      "score - float64\n",
      "\tRange( 0.00,  5.00)\n",
      "\tQuantiles: 0.25:  1.00 | 0.5:  3.20 | 0.75:  4.20\n",
      "\tMean:  2.73\n",
      "\tContains NaN: False\n",
      "sen1 - object\n",
      "\tExamples:\n",
      "\t\trender one language in another language\n",
      "\t\tnations unified by shared interests, history or institutions\n",
      "\t\tconvert into absorbable substances, (as if) with heat or chemical process\n",
      "\tUnique objects:\n",
      "\t\t3142\n",
      "\tContains NaN: False\n",
      "sen2 - object\n",
      "\tExamples:\n",
      "\t\trestate (words) from one language into another language.\n",
      "\t\ta group of nations having common interests.\n",
      "\t\tsoften or disintegrate by means of chemical action, heat, or moisture.\n",
      "\tUnique objects:\n",
      "\t\t2936\n",
      "\tContains NaN: False\n",
      "info1 - object\n",
      "\tExamples:\n",
      "\t\tnan\n",
      "\t\tnan\n",
      "\t\tnan\n",
      "\tUnique objects:\n",
      "\t\t232\n",
      "\tContains NaN: True\n",
      "info2 - object\n",
      "\tExamples:\n",
      "\t\tnan\n",
      "\t\tnan\n",
      "\t\tnan\n",
      "\tUnique objects:\n",
      "\t\t255\n",
      "\tContains NaN: True\n"
     ]
    }
   ],
   "source": [
    "df[\"year\"] = df.year.str.replace(\"test\", \"\")\n",
    "df = (df\n",
    "      .astype({\"file\": \"category\", \"year\": \"int16\"})\n",
    "      .drop(\"id\", axis=1)\n",
    ")"
   ],
   "metadata": {
    "collapsed": false
   }
  },
  {
   "cell_type": "code",
   "execution_count": 7,
   "outputs": [],
   "source": [
    "print(summarise(df))"
   ],
   "metadata": {
    "collapsed": false
   }
  },
  {
   "cell_type": "code",
   "execution_count": 8,
   "outputs": [
    {
     "name": "stdout",
     "output_type": "stream",
     "text": [
      "Summary statistics:\n",
      "Dataframe dimensions: 3814x7\n",
      "file - category\n",
      "\tExamples:\n",
      "\t\tsurprise.OnWN\n",
      "\t\tsurprise.OnWN\n",
      "\t\tsurprise.OnWN\n",
      "\tUnique objects:\n",
      "\t\t7\n",
      "\tContains NaN: False\n",
      "year - int16\n",
      "\tExamples:\n",
      "\t\t2012\n",
      "\t\t2012\n",
      "\t\t2012\n",
      "\tUnique objects:\n",
      "\t\t5\n",
      "\tContains NaN: False\n",
      "score - float64\n",
      "\tRange( 0.00,  5.00)\n",
      "\tQuantiles: 0.25:  1.00 | 0.5:  3.20 | 0.75:  4.20\n",
      "\tMean:  2.73\n",
      "\tContains NaN: False\n",
      "sen1 - object\n",
      "\tExamples:\n",
      "\t\trender one language in another language\n",
      "\t\tnations unified by shared interests, history or institutions\n",
      "\t\tconvert into absorbable substances, (as if) with heat or chemical process\n",
      "\tUnique objects:\n",
      "\t\t3142\n",
      "\tContains NaN: False\n",
      "sen2 - object\n",
      "\tExamples:\n",
      "\t\trestate (words) from one language into another language.\n",
      "\t\ta group of nations having common interests.\n",
      "\t\tsoften or disintegrate by means of chemical action, heat, or moisture.\n",
      "\tUnique objects:\n",
      "\t\t2936\n",
      "\tContains NaN: False\n",
      "info1 - object\n",
      "\tExamples:\n",
      "\t\tnan\n",
      "\t\tnan\n",
      "\t\tnan\n",
      "\tUnique objects:\n",
      "\t\t232\n",
      "\tContains NaN: True\n",
      "info2 - object\n",
      "\tExamples:\n",
      "\t\tnan\n",
      "\t\tnan\n",
      "\t\tnan\n",
      "\tUnique objects:\n",
      "\t\t255\n",
      "\tContains NaN: True\n"
     ]
    }
   ],
   "source": [
    "from utx.statistics.arrays import stats1d\n",
    "from utx.plot import plot\n",
    "from scipy.stats import gaussian_kde\n",
    "\n",
    "(plot(0, 5, 100)\n",
    " .function(gaussian_kde(df.score))\n",
    " .labels(\"Score Density Distribution\", \"Score\", \"Density\")\n",
    " .show()\n",
    ")"
   ],
   "metadata": {
    "collapsed": false
   }
  },
  {
   "cell_type": "code",
   "execution_count": 52,
   "outputs": [
    {
     "data": {
      "text/plain": "<Figure size 640x480 with 1 Axes>",
      "image/png": "[encoded data removed]"
     },
     "metadata": {},
     "output_type": "display_data"
    }
   ],
   "source": [
    "import matplotlib.pyplot as plt\n",
    "plt.hist(df.score, bins=20)\n",
    "plt.show()"
   ],
   "metadata": {
    "collapsed": false
   }
  },
  {
   "cell_type": "code",
   "execution_count": 10,
   "outputs": [
    {
     "data": {
      "text/plain": "<Figure size 640x480 with 1 Axes>",
      "image/png": "[encoded data removed]"
     },
     "metadata": {},
     "output_type": "display_data"
    }
   ],
   "source": [],
   "metadata": {
    "collapsed": false
   }
  }
 ],
 "metadata": {
  "kernelspec": {
   "display_name": "Python 3",
   "language": "python",
   "name": "python3"
  },
  "language_info": {
   "codemirror_mode": {
    "name": "ipython",
    "version": 2
   },
   "file_extension": ".py",
   "mimetype": "text/x-python",
   "name": "python",
   "nbconvert_exporter": "python",
   "pygments_lexer": "ipython2",
   "version": "2.7.6"
  }
 },
 "nbformat": 4,
 "nbformat_minor": 0
}
